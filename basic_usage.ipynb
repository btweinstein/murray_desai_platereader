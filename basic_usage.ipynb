{
 "cells": [
  {
   "cell_type": "code",
   "execution_count": 1,
   "metadata": {
    "collapsed": false
   },
   "outputs": [
    {
     "name": "stdout",
     "output_type": "stream",
     "text": [
      "Populating the interactive namespace from numpy and matplotlib\n"
     ]
    },
    {
     "name": "stderr",
     "output_type": "stream",
     "text": [
      "Value error parsing header in AFM: UnderlinePosition -133\r",
      "UnderlineThickness 20\r",
      "Version 7.000\n"
     ]
    }
   ],
   "source": [
    "%pylab inline"
   ]
  },
  {
   "cell_type": "code",
   "execution_count": 2,
   "metadata": {
    "collapsed": false
   },
   "outputs": [],
   "source": [
    "%load_ext autoreload\n",
    "%autoreload 2"
   ]
  },
  {
   "cell_type": "code",
   "execution_count": 3,
   "metadata": {
    "collapsed": true
   },
   "outputs": [],
   "source": [
    "import glob"
   ]
  },
  {
   "cell_type": "code",
   "execution_count": 4,
   "metadata": {
    "collapsed": true
   },
   "outputs": [],
   "source": [
    "file_name = glob.glob('./*.xls*')[0]"
   ]
  },
  {
   "cell_type": "code",
   "execution_count": 5,
   "metadata": {
    "collapsed": true
   },
   "outputs": [],
   "source": [
    "import murray_desai_platereader as mdp"
   ]
  },
  {
   "cell_type": "code",
   "execution_count": 6,
   "metadata": {
    "collapsed": false
   },
   "outputs": [],
   "source": [
    "experiment = mdp.PlateReader_Experiment(file_name, 'C', 2)"
   ]
  },
  {
   "cell_type": "code",
   "execution_count": 7,
   "metadata": {
    "collapsed": false
   },
   "outputs": [
    {
     "data": {
      "text/html": [
       "<div style=\"max-height:1000px;max-width:1500px;overflow:auto;\">\n",
       "<table border=\"1\" class=\"dataframe\">\n",
       "  <thead>\n",
       "    <tr style=\"text-align: right;\">\n",
       "      <th></th>\n",
       "      <th>1</th>\n",
       "      <th>2</th>\n",
       "      <th>3</th>\n",
       "      <th>4</th>\n",
       "      <th>5</th>\n",
       "      <th>6</th>\n",
       "      <th>7</th>\n",
       "      <th>8</th>\n",
       "      <th>9</th>\n",
       "      <th>10</th>\n",
       "      <th>11</th>\n",
       "      <th>12</th>\n",
       "    </tr>\n",
       "  </thead>\n",
       "  <tbody>\n",
       "    <tr>\n",
       "      <th>A</th>\n",
       "      <td>108748976</td>\n",
       "      <td>14592288</td>\n",
       "      <td>3576484</td>\n",
       "      <td>1699803</td>\n",
       "      <td>157253</td>\n",
       "      <td>188133</td>\n",
       "      <td>NaN</td>\n",
       "      <td>NaN</td>\n",
       "      <td>NaN</td>\n",
       "      <td>NaN</td>\n",
       "      <td>NaN</td>\n",
       "      <td>NaN</td>\n",
       "    </tr>\n",
       "    <tr>\n",
       "      <th>B</th>\n",
       "      <td>11907568</td>\n",
       "      <td>1692923</td>\n",
       "      <td>481241</td>\n",
       "      <td>111551648</td>\n",
       "      <td>17236194</td>\n",
       "      <td>3893010</td>\n",
       "      <td>NaN</td>\n",
       "      <td>NaN</td>\n",
       "      <td>NaN</td>\n",
       "      <td>NaN</td>\n",
       "      <td>NaN</td>\n",
       "      <td>NaN</td>\n",
       "    </tr>\n",
       "    <tr>\n",
       "      <th>C</th>\n",
       "      <td>1531442</td>\n",
       "      <td>254776</td>\n",
       "      <td>208490</td>\n",
       "      <td>52014872</td>\n",
       "      <td>8818978</td>\n",
       "      <td>1859833</td>\n",
       "      <td>NaN</td>\n",
       "      <td>NaN</td>\n",
       "      <td>NaN</td>\n",
       "      <td>NaN</td>\n",
       "      <td>NaN</td>\n",
       "      <td>NaN</td>\n",
       "    </tr>\n",
       "    <tr>\n",
       "      <th>D</th>\n",
       "      <td>1369706</td>\n",
       "      <td>434685</td>\n",
       "      <td>189326</td>\n",
       "      <td>25078740</td>\n",
       "      <td>2793533</td>\n",
       "      <td>720359</td>\n",
       "      <td>NaN</td>\n",
       "      <td>NaN</td>\n",
       "      <td>NaN</td>\n",
       "      <td>NaN</td>\n",
       "      <td>NaN</td>\n",
       "      <td>NaN</td>\n",
       "    </tr>\n",
       "    <tr>\n",
       "      <th>E</th>\n",
       "      <td>1172252</td>\n",
       "      <td>325357</td>\n",
       "      <td>130072</td>\n",
       "      <td>11685138</td>\n",
       "      <td>1670334</td>\n",
       "      <td>405327</td>\n",
       "      <td>NaN</td>\n",
       "      <td>NaN</td>\n",
       "      <td>NaN</td>\n",
       "      <td>NaN</td>\n",
       "      <td>NaN</td>\n",
       "      <td>NaN</td>\n",
       "    </tr>\n",
       "    <tr>\n",
       "      <th>F</th>\n",
       "      <td>171335344</td>\n",
       "      <td>22207804</td>\n",
       "      <td>6145793</td>\n",
       "      <td>5543215</td>\n",
       "      <td>987041</td>\n",
       "      <td>296514</td>\n",
       "      <td>NaN</td>\n",
       "      <td>NaN</td>\n",
       "      <td>NaN</td>\n",
       "      <td>NaN</td>\n",
       "      <td>NaN</td>\n",
       "      <td>NaN</td>\n",
       "    </tr>\n",
       "    <tr>\n",
       "      <th>G</th>\n",
       "      <td>139324000</td>\n",
       "      <td>18295060</td>\n",
       "      <td>5001630</td>\n",
       "      <td>2082156</td>\n",
       "      <td>393719</td>\n",
       "      <td>178750</td>\n",
       "      <td>NaN</td>\n",
       "      <td>NaN</td>\n",
       "      <td>NaN</td>\n",
       "      <td>NaN</td>\n",
       "      <td>NaN</td>\n",
       "      <td>NaN</td>\n",
       "    </tr>\n",
       "    <tr>\n",
       "      <th>H</th>\n",
       "      <td>120788600</td>\n",
       "      <td>15403170</td>\n",
       "      <td>4247190</td>\n",
       "      <td>1740560</td>\n",
       "      <td>540015</td>\n",
       "      <td>154493</td>\n",
       "      <td>NaN</td>\n",
       "      <td>NaN</td>\n",
       "      <td>NaN</td>\n",
       "      <td>NaN</td>\n",
       "      <td>NaN</td>\n",
       "      <td>NaN</td>\n",
       "    </tr>\n",
       "  </tbody>\n",
       "</table>\n",
       "</div>"
      ],
      "text/plain": [
       "          1         2        3          4         5        6   7   8   9   10  \\\n",
       "A  108748976  14592288  3576484    1699803    157253   188133 NaN NaN NaN NaN   \n",
       "B   11907568   1692923   481241  111551648  17236194  3893010 NaN NaN NaN NaN   \n",
       "C    1531442    254776   208490   52014872   8818978  1859833 NaN NaN NaN NaN   \n",
       "D    1369706    434685   189326   25078740   2793533   720359 NaN NaN NaN NaN   \n",
       "E    1172252    325357   130072   11685138   1670334   405327 NaN NaN NaN NaN   \n",
       "F  171335344  22207804  6145793    5543215    987041   296514 NaN NaN NaN NaN   \n",
       "G  139324000  18295060  5001630    2082156    393719   178750 NaN NaN NaN NaN   \n",
       "H  120788600  15403170  4247190    1740560    540015   154493 NaN NaN NaN NaN   \n",
       "\n",
       "   11  12  \n",
       "A NaN NaN  \n",
       "B NaN NaN  \n",
       "C NaN NaN  \n",
       "D NaN NaN  \n",
       "E NaN NaN  \n",
       "F NaN NaN  \n",
       "G NaN NaN  \n",
       "H NaN NaN  "
      ]
     },
     "execution_count": 7,
     "metadata": {},
     "output_type": "execute_result"
    }
   ],
   "source": [
    "table = experiment.get_table()\n",
    "table"
   ]
  },
  {
   "cell_type": "markdown",
   "metadata": {},
   "source": [
    "This successfully reads in the table data. Let's plot it for fun with a heatmap."
   ]
  },
  {
   "cell_type": "code",
   "execution_count": 8,
   "metadata": {
    "collapsed": false
   },
   "outputs": [
    {
     "name": "stderr",
     "output_type": "stream",
     "text": [
      "/home/bryan/anaconda/lib/python2.7/site-packages/skimage/io/_plugins/matplotlib_plugin.py:77: UserWarning: Float image out of standard range; displaying image with stretched contrast.\n",
      "  warnings.warn(\"Float image out of standard range; displaying \"\n"
     ]
    },
    {
     "data": {
      "image/png": "[encoded data removed]",
      "text/plain": [
       "<matplotlib.figure.Figure at 0x7f3ac36fc890>"
      ]
     },
     "metadata": {},
     "output_type": "display_data"
    }
   ],
   "source": [
    "experiment.plot_table_as_heatmap(intensity_min = 10**4, intensity_max = 10**9)"
   ]
  },
  {
   "cell_type": "markdown",
   "metadata": {},
   "source": [
    "Cool. This looks about right. The warning is fine, all it results in doing is displaying the cubehelix palette which is what we want anyways."
   ]
  },
  {
   "cell_type": "code",
   "execution_count": null,
   "metadata": {
    "collapsed": true
   },
   "outputs": [],
   "source": []
  }
 ],
 "metadata": {
  "kernelspec": {
   "display_name": "Python 2",
   "language": "python",
   "name": "python2"
  },
  "language_info": {
   "codemirror_mode": {
    "name": "ipython",
    "version": 2
   },
   "file_extension": ".py",
   "mimetype": "text/x-python",
   "name": "python",
   "nbconvert_exporter": "python",
   "pygments_lexer": "ipython2",
   "version": "2.7.9"
  }
 },
 "nbformat": 4,
 "nbformat_minor": 0
}
